{
 "cells": [
  {
   "cell_type": "code",
   "execution_count": 1,
   "metadata": {},
   "outputs": [],
   "source": [
    "import sys\n",
    "import torch\n",
    "import numpy as np\n",
    "import pandas as pd\n",
    "import matplotlib.pyplot as plt"
   ]
  },
  {
   "cell_type": "code",
   "execution_count": 2,
   "metadata": {},
   "outputs": [],
   "source": [
    "from gibbsibp import UncollapsedGibbsIBP\n",
    "from util import extract_mean_from_samples, compare_distance, add_noise_to_obs, check_basis_elements"
   ]
  },
  {
   "cell_type": "markdown",
   "metadata": {},
   "source": [
    "## General description of experimental setup"
   ]
  },
  {
   "cell_type": "code",
   "execution_count": 3,
   "metadata": {},
   "outputs": [
    {
     "name": "stderr",
     "output_type": "stream",
     "text": [
      "<>:1: SyntaxWarning: invalid escape sequence '\\ '\n",
      "<>:1: SyntaxWarning: invalid escape sequence '\\ '\n",
      "/tmp/ipykernel_364631/450752376.py:1: SyntaxWarning: invalid escape sequence '\\ '\n",
      "  \"\"\"\n"
     ]
    }
   ],
   "source": [
    "\n",
    "\"\"\"\n",
    " 1): base element\n",
    "     -----\n",
    "    | \\   |\n",
    "    |  o  X\n",
    "    |     |\n",
    "     -----\n",
    "\n",
    " 2): base element\n",
    "     -----\n",
    "    |   / |\n",
    "    X  o  |\n",
    "    |     |\n",
    "     -----\n",
    "\n",
    "3): not visual and not dynamic compositional\n",
    "     --X--\n",
    "    |     |\n",
    "    |  o  |\n",
    "    |  |  |\n",
    "     -----\n",
    "\n",
    "4): not visual but dynamic compositional\n",
    "     -----\n",
    "    |     |\n",
    "    |  o  |\n",
    "    |   \\ |\n",
    "     --X--\n",
    "\n",
    "5): visual and dynamic compositional\n",
    "     -----\n",
    "    |  |  |\n",
    "    X  o  X\n",
    "    |     |\n",
    "     -----\n",
    "\n",
    "6): not dynamic but visual compositional\n",
    "     --X--\n",
    "    |     |\n",
    "    X  o  |\n",
    "    | /   |\n",
    "     -----\n",
    "\"\"\"\n",
    "\n",
    "conditions = []\n",
    "conditions.append({'force':np.array([ 0., 0.]),             'cue':np.array([0., 0., 0., 0.,]), 'name':'null'})\n",
    "conditions.append({'force':np.array([-0.866025404, 0.5]),   'cue':np.array([1., 0., 0., 0.,]), 'name':'base1'})\n",
    "conditions.append({'force':np.array([ 0.866025404, 0.5]),   'cue':np.array([0., 0., 1., 0.,]), 'name':'base2'})\n",
    "conditions.append({'force':np.array([ 0.,-1.]),             'cue':np.array([0., 1., 0., 0.,]), 'name':'Comp. visual-/dynamic-'})\n",
    "conditions.append({'force':np.array([ 0.866025404, -0.5]),  'cue':np.array([0., 0., 0., 1.,]), 'name':'Comp. visual-/dynamic+'})\n",
    "conditions.append({'force':np.array([ 0, 1]),               'cue':np.array([1., 0., 1., 0.,]), 'name':'Comp. visual+/dynamic+'})\n",
    "conditions.append({'force':np.array([-0.866025404, -0.5]),  'cue':np.array([0., 1., 1., 0.,]), 'name':'Comp. visual+/dynamic-'})\n",
    "\n",
    "\n",
    "true_A = []\n",
    "true_Y = []\n",
    "for i, condition in enumerate(conditions):\n",
    "    if i > 0:\n",
    "        true_A.append(condition['force'])\n",
    "        true_Y.append(condition['cue'])"
   ]
  },
  {
   "cell_type": "markdown",
   "metadata": {},
   "source": [
    "## Generate input data for the IBP based on the sequences that \n",
    "a force observation matrix F of Nx2, and a cue observation matrix X of Nx4"
   ]
  },
  {
   "cell_type": "code",
   "execution_count": 4,
   "metadata": {},
   "outputs": [],
   "source": [
    "def generate_input_data(condition_seq):\n",
    "    \"\"\"\n",
    "    Generate input data for the model, based on sequences of conditions experienced by the subjects.\n",
    "    \"\"\"\n",
    "    X_dataset = []\n",
    "    F_dataset = []\n",
    "\n",
    "    for condition in condition_seq:\n",
    "        X_dataset.append(conditions[condition]['cue'])\n",
    "        F_dataset.append(conditions[condition]['force'])\n",
    "\n",
    "    X_dataset = np.array(X_dataset)\n",
    "    F_dataset = np.array(F_dataset)\n",
    "\n",
    "    X_dataset = torch.tensor(X_dataset, dtype=torch.float32)\n",
    "    F_dataset = torch.tensor(F_dataset, dtype=torch.float32)\n",
    "\n",
    "    return X_dataset, F_dataset"
   ]
  },
  {
   "cell_type": "code",
   "execution_count": 22,
   "metadata": {},
   "outputs": [
    {
     "name": "stdout",
     "output_type": "stream",
     "text": [
      "630\n",
      "[1, 4, 2, 2, 6, 1, 5, 5, 3, 3]\n",
      "visual cues\n",
      "tensor([[1., 0., 0., 0.],\n",
      "        [0., 0., 0., 1.],\n",
      "        [0., 0., 1., 0.],\n",
      "        [0., 0., 1., 0.],\n",
      "        [0., 1., 1., 0.],\n",
      "        [1., 0., 0., 0.],\n",
      "        [1., 0., 1., 0.],\n",
      "        [1., 0., 1., 0.],\n",
      "        [0., 1., 0., 0.],\n",
      "        [0., 1., 0., 0.]])\n",
      "forces\n",
      "tensor([[-0.9016,  0.5143],\n",
      "        [ 0.8442, -0.4810],\n",
      "        [ 0.9060,  0.5031],\n",
      "        [ 0.8649,  0.5361],\n",
      "        [-0.9009, -0.5551],\n",
      "        [-0.8757,  0.5162],\n",
      "        [-0.0017,  0.9800],\n",
      "        [ 0.0056,  0.9271],\n",
      "        [ 0.0216, -1.0124],\n",
      "        [-0.0346, -1.0161]])\n"
     ]
    }
   ],
   "source": [
    "dataset = pd.read_excel('training_data.xlsx')\n",
    "\n",
    "seq_1 = dataset['cp_pres_4'].to_list()\n",
    "seq_1 = [int(x) for x in seq_1]\n",
    "seq_1 = [x for x in seq_1 if x != 0]\n",
    "print(len(seq_1))\n",
    "print(seq_1[:10])\n",
    "\n",
    "X_dataset, F_dataset = generate_input_data(seq_1)\n",
    "\n",
    "X_dataset, F_dataset = add_noise_to_obs(X_dataset, F_dataset, F_noise_var=0.001, lambd=1, epsilon=0)\n",
    "\n",
    "print('visual cues')\n",
    "print(X_dataset[:10])\n",
    "print('forces')\n",
    "print(F_dataset[:10])"
   ]
  },
  {
   "cell_type": "markdown",
   "metadata": {},
   "source": [
    "## Run the Gibbs sampler to get a posterior over A, Z, and Y"
   ]
  },
  {
   "cell_type": "code",
   "execution_count": 26,
   "metadata": {},
   "outputs": [
    {
     "name": "stdout",
     "output_type": "stream",
     "text": [
      "iteration: 499/500\r"
     ]
    }
   ],
   "source": [
    "inf = UncollapsedGibbsIBP(K=1, max_K=6, alpha=0.01, sigma2_a=1.0, phi=0.25, sigma2_n=0.05, epsilon=0.01, lambd=0.99)\n",
    "\n",
    "As, Zs, Ys = inf.gibbs(F_dataset, X_dataset, 500)"
   ]
  },
  {
   "cell_type": "code",
   "execution_count": 28,
   "metadata": {},
   "outputs": [
    {
     "name": "stdout",
     "output_type": "stream",
     "text": [
      "A\n",
      "[[-0.86  0.5 ]\n",
      " [ 0.86  0.5 ]\n",
      " [-0.88 -0.5 ]\n",
      " [ 0.86 -0.5 ]\n",
      " [ 0.01 -1.  ]]\n",
      "Y\n",
      "[[1. 0. 0. 0.]\n",
      " [0. 0. 1. 0.]\n",
      " [0. 1. 1. 0.]\n",
      " [0. 0. 0. 1.]\n",
      " [0. 1. 0. 0.]]\n",
      "Z\n",
      "[[1. 0. 0. 0. 0.]\n",
      " [0. 0. 0. 1. 0.]\n",
      " [0. 1. 0. 0. 0.]\n",
      " ...\n",
      " [0. 0. 0. 1. 0.]\n",
      " [0. 0. 0. 0. 1.]\n",
      " [1. 0. 0. 0. 0.]]\n",
      "[210. 210. 105. 105. 105.]\n",
      "\n",
      "Element     base1 is basis\n",
      "Element     base2 is basis\n",
      "Element vis-/dyn- is basis\n",
      "Element vis-/dyn+ is basis\n",
      "Element vis+/dyn+ not\n",
      "Element vis+/dyn- is basis\n",
      "\n",
      "F_hat\n",
      "[[-0.86  0.5 ]\n",
      " [ 0.86 -0.5 ]\n",
      " [ 0.86  0.5 ]\n",
      " [ 0.86  0.5 ]\n",
      " [-0.88 -0.5 ]\n",
      " [-0.86  0.5 ]\n",
      " [ 0.    1.  ]\n",
      " [ 0.    1.  ]\n",
      " [ 0.01 -1.  ]\n",
      " [ 0.01 -1.  ]]\n",
      "F_dataset\n",
      "[[-0.9   0.51]\n",
      " [ 0.84 -0.48]\n",
      " [ 0.91  0.5 ]\n",
      " [ 0.86  0.54]\n",
      " [-0.9  -0.56]\n",
      " [-0.88  0.52]\n",
      " [-0.    0.98]\n",
      " [ 0.01  0.93]\n",
      " [ 0.02 -1.01]\n",
      " [-0.03 -1.02]]\n",
      "X_hat\n",
      "[[1. 0. 0. 0.]\n",
      " [0. 0. 0. 1.]\n",
      " [0. 0. 1. 0.]\n",
      " [0. 0. 1. 0.]\n",
      " [0. 1. 1. 0.]\n",
      " [1. 0. 0. 0.]\n",
      " [1. 0. 1. 0.]\n",
      " [1. 0. 1. 0.]\n",
      " [0. 1. 0. 0.]\n",
      " [0. 1. 0. 0.]]\n",
      "X_dataset\n",
      "[[1. 0. 0. 0.]\n",
      " [0. 0. 0. 1.]\n",
      " [0. 0. 1. 0.]\n",
      " [0. 0. 1. 0.]\n",
      " [0. 1. 1. 0.]\n",
      " [1. 0. 0. 0.]\n",
      " [1. 0. 1. 0.]\n",
      " [1. 0. 1. 0.]\n",
      " [0. 1. 0. 0.]\n",
      " [0. 1. 0. 0.]]\n"
     ]
    }
   ],
   "source": [
    "A, Z, Y, F_hat, X_hat = extract_mean_from_samples(As, Zs, Ys, n=10)\n",
    "print('A')\n",
    "print(A)\n",
    "print('Y')\n",
    "print(Y)\n",
    "print('Z')\n",
    "print(Z)\n",
    "print(np.sum(Z, axis=0))\n",
    "\n",
    "print()\n",
    "check_basis_elements(A, Y)\n",
    "\n",
    "print('\\nF_hat')\n",
    "print(F_hat[:10])\n",
    "print('F_dataset')\n",
    "print(np.round(F_dataset[:10].numpy(),2))\n",
    "print('X_hat')\n",
    "print(X_hat[:10])\n",
    "print('X_dataset')\n",
    "print(np.round(X_dataset[:10].numpy(),2))"
   ]
  },
  {
   "cell_type": "markdown",
   "metadata": {},
   "source": [
    "## Plot the force directions inferred by the model"
   ]
  },
  {
   "cell_type": "code",
   "execution_count": 8,
   "metadata": {},
   "outputs": [],
   "source": [
    "def extract_force_from_model(A, Z, condition_sequence):\n",
    "    position_conds = [[], [], [], [], [], []]\n",
    "    for i, condition in enumerate(condition_sequence):\n",
    "        inferred_position = np.dot(A.T, Z[i])\n",
    "        position_conds[condition-1].append(inferred_position) # offset by 1\n",
    "\n",
    "    return position_conds"
   ]
  },
  {
   "cell_type": "code",
   "execution_count": 9,
   "metadata": {},
   "outputs": [
    {
     "data": {
      "image/png": "[encoded data removed]",
      "text/plain": [
       "<Figure size 640x480 with 1 Axes>"
      ]
     },
     "metadata": {},
     "output_type": "display_data"
    }
   ],
   "source": [
    "position_conds = extract_force_from_model(A, Z, seq_1)\n",
    "for i, position_cond in enumerate(position_conds):\n",
    "    if len(position_cond) > 0:\n",
    "        position_cond = np.array(position_cond)\n",
    "        plt.scatter(position_cond[:,0], position_cond[:,1], label=conditions[i+1]['name'])\n",
    "# make arrows in the true direction\n",
    "for i in range(len(true_A)):\n",
    "    plt.arrow(0, 0, true_A[i][0], true_A[i][1], head_width=0.02, head_length=0.01, alpha=0.2, color='k')\n",
    "plt.legend(loc = 'center')\n",
    "plt.title('Inferred force directions')\n",
    "plt.show()"
   ]
  }
 ],
 "metadata": {
  "kernelspec": {
   "display_name": "generic312",
   "language": "python",
   "name": "python3"
  },
  "language_info": {
   "codemirror_mode": {
    "name": "ipython",
    "version": 3
   },
   "file_extension": ".py",
   "mimetype": "text/x-python",
   "name": "python",
   "nbconvert_exporter": "python",
   "pygments_lexer": "ipython3",
   "version": "3.12.3"
  }
 },
 "nbformat": 4,
 "nbformat_minor": 2
}
