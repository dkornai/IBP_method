{
 "cells": [
  {
   "cell_type": "code",
   "execution_count": 1,
   "metadata": {},
   "outputs": [],
   "source": [
    "import torch\n",
    "import numpy as np\n",
    "from scipy.stats import multivariate_normal"
   ]
  },
  {
   "cell_type": "code",
   "execution_count": 2,
   "metadata": {},
   "outputs": [],
   "source": [
    "from gibbsibp import UncollapsedGibbsIBP"
   ]
  },
  {
   "cell_type": "code",
   "execution_count": 98,
   "metadata": {},
   "outputs": [],
   "source": [
    "F_np = np.array(\n",
    "    [[0.51, 0.0],\n",
    "     [0.49, 0.0]]\n",
    "    )\n",
    "X_np = np.array(\n",
    "    [[0.0, 0.0],\n",
    "     [0.0, 0.0]]\n",
    "    )\n",
    "\n",
    "A_np = np.array([[0.4, 0.0]])\n",
    "Z_np = np.array(\n",
    "    [[1.0], \n",
    "     [1.0]]\n",
    "    )\n",
    "\n",
    "SIGMA2_N = 0.05\n",
    "SIGMA2_A = 1.0\n",
    "\n",
    "\n",
    "F_torch = torch.tensor(F_np, dtype=torch.float32)\n",
    "X_torch = torch.tensor(X_np, dtype=torch.float32)\n",
    "A_torch = torch.tensor(A_np, dtype=torch.float32)\n",
    "Z_torch = torch.tensor(Z_np, dtype=torch.float32)\n",
    "\n",
    "inf = UncollapsedGibbsIBP(K=1, max_K=6, alpha=0.01, sigma2_a=1.0, phi=0.25, sigma2_n=SIGMA2_N, epsilon=0.25, lambd=0.75)\n",
    "\n",
    "As, Zs, Ys = inf.gibbs(F_torch, X_torch, 0)"
   ]
  },
  {
   "cell_type": "code",
   "execution_count": 58,
   "metadata": {},
   "outputs": [
    {
     "name": "stdout",
     "output_type": "stream",
     "text": [
      "Test passed for sample 0\n",
      "Test passed for sample 1\n"
     ]
    }
   ],
   "source": [
    "# Calculate log likelihood using the implementation in the class\n",
    "\n",
    "for i in range(F_torch.shape[0]):\n",
    "\n",
    "    my_loglik = inf.loglik_f_i__given_Az(F_torch[i:i+1,:], A_torch, Z_torch[i:i+1,:]).numpy()[0]\n",
    "\n",
    "    # Compare results with the log likelihood calculated in scipy\n",
    "    mean = (Z_torch[i:i+1]@A_torch).numpy()[0]\n",
    "    cov = np.eye(2)*SIGMA2_N\n",
    "    multivariate_normal.logpdf(A_np, mean=mean, cov=cov)\n",
    "\n",
    "    sp_loglik = multivariate_normal.logpdf(F_np[i,:], mean, cov)\n",
    "\n",
    "    if np.isclose(my_loglik, sp_loglik, atol=1e-6):\n",
    "        print(f\"Test passed for sample {i}\")"
   ]
  },
  {
   "cell_type": "code",
   "execution_count": 103,
   "metadata": {},
   "outputs": [
    {
     "ename": "RuntimeError",
     "evalue": "mat1 and mat2 shapes cannot be multiplied (2x2 and 1x2)",
     "output_type": "error",
     "traceback": [
      "\u001b[0;31m---------------------------------------------------------------------------\u001b[0m",
      "\u001b[0;31mRuntimeError\u001b[0m                              Traceback (most recent call last)",
      "Cell \u001b[0;32mIn[103], line 3\u001b[0m\n\u001b[1;32m      1\u001b[0m inf\u001b[38;5;241m.\u001b[39mresample_A(F_torch, Z_torch)\n\u001b[1;32m      2\u001b[0m temp \u001b[38;5;241m=\u001b[39m (Z_torch\u001b[38;5;241m.\u001b[39mT \u001b[38;5;241m@\u001b[39m Z_torch \u001b[38;5;241m+\u001b[39m (SIGMA2_N\u001b[38;5;241m/\u001b[39mSIGMA2_A)\u001b[38;5;241m*\u001b[39mtorch\u001b[38;5;241m.\u001b[39meye(\u001b[38;5;241m2\u001b[39m))\u001b[38;5;241m.\u001b[39minverse()\n\u001b[0;32m----> 3\u001b[0m mu \u001b[38;5;241m=\u001b[39m \u001b[43mtemp\u001b[49m\u001b[43m \u001b[49m\u001b[38;5;241;43m@\u001b[39;49m\u001b[43m \u001b[49m\u001b[43mZ_torch\u001b[49m\u001b[38;5;241;43m.\u001b[39;49m\u001b[43mT\u001b[49m \u001b[38;5;241m@\u001b[39m F_torch\n",
      "\u001b[0;31mRuntimeError\u001b[0m: mat1 and mat2 shapes cannot be multiplied (2x2 and 1x2)"
     ]
    }
   ],
   "source": [
    "inf.resample_A(F_torch, Z_torch)\n",
    "temp = (Z_torch.T @ Z_torch + (SIGMA2_N/SIGMA2_A)*torch.eye(2)).inverse()\n",
    "mu = temp @ Z_torch.T @ F_torch"
   ]
  },
  {
   "cell_type": "code",
   "execution_count": 45,
   "metadata": {},
   "outputs": [
    {
     "data": {
      "text/plain": [
       "np.float64(1.1578552071446455)"
      ]
     },
     "execution_count": 45,
     "metadata": {},
     "output_type": "execute_result"
    }
   ],
   "source": []
  }
 ],
 "metadata": {
  "kernelspec": {
   "display_name": "generic312",
   "language": "python",
   "name": "python3"
  },
  "language_info": {
   "codemirror_mode": {
    "name": "ipython",
    "version": 3
   },
   "file_extension": ".py",
   "mimetype": "text/x-python",
   "name": "python",
   "nbconvert_exporter": "python",
   "pygments_lexer": "ipython3",
   "version": "3.12.3"
  }
 },
 "nbformat": 4,
 "nbformat_minor": 2
}
