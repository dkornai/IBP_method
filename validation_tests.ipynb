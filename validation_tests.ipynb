{
 "cells": [
  {
   "cell_type": "code",
   "execution_count": 24,
   "metadata": {},
   "outputs": [],
   "source": [
    "import torch\n",
    "import numpy as np\n",
    "import scipy.stats as stats\n",
    "from scipy.stats import multivariate_normal, norm, bernoulli\n",
    "import matplotlib.pyplot as plt"
   ]
  },
  {
   "cell_type": "code",
   "execution_count": 40,
   "metadata": {},
   "outputs": [],
   "source": [
    "from gibbsibp import UncollapsedGibbsIBP, normalise_bern_logpostprop"
   ]
  },
  {
   "cell_type": "code",
   "execution_count": 61,
   "metadata": {},
   "outputs": [],
   "source": [
    "F_np = np.array(\n",
    "    [[0.51, -0.01],\n",
    "     [0.49, 0.01],\n",
    "     [0.01, 0.5]]\n",
    "    )\n",
    "X_np = np.array(\n",
    "    [[0.0, 1.0],\n",
    "     [0.0, 1.0],\n",
    "     [1.0, 0.0]]\n",
    "    )\n",
    "\n",
    "A_np = np.array(\n",
    "    [[0.4, 0.1],\n",
    "     [0.1, 0.4]]\n",
    "    )\n",
    "Y_np = np.array(\n",
    "    [[0.0, 1.0],\n",
    "     [1.0, 0.0]]\n",
    "    )\n",
    "Z_np = np.array(\n",
    "    [[1.0, 0.0],\n",
    "     [1.0, 0.0],\n",
    "     [0.0, 1.0]]\n",
    "    )\n",
    "\n",
    "SIGMA2_N = 0.05\n",
    "SIGMA2_A = 1.0\n",
    "LAMBD = 0.75\n",
    "EPSILON = 0.25\n",
    "N=3\n",
    "K=2\n",
    "D=2\n",
    "T=2\n",
    "\n",
    "F = torch.tensor(F_np, dtype=torch.float32)\n",
    "X = torch.tensor(X_np, dtype=torch.float32)\n",
    "A = torch.tensor(A_np, dtype=torch.float32)\n",
    "Y = torch.tensor(Y_np, dtype=torch.float32)\n",
    "Z = torch.tensor(Z_np, dtype=torch.float32)\n",
    "\n",
    "inf = UncollapsedGibbsIBP(K=1, max_K=6, alpha=0.01, sigma2_a=SIGMA2_A, phi=0.25, sigma2_n=SIGMA2_N, epsilon=EPSILON, lambd=LAMBD)\n",
    "\n",
    "As, Zs, Ys = inf.gibbs(F, X, 0)"
   ]
  },
  {
   "cell_type": "markdown",
   "metadata": {},
   "source": [
    "### Test of Gaussian log-likelihood $P(F|A,Z)$\n",
    "Tests the method `loglik_f_i__given_Az`, and also `loglik_f_i__given_Az_Knew` with `k_new=0`"
   ]
  },
  {
   "cell_type": "code",
   "execution_count": null,
   "metadata": {},
   "outputs": [
    {
     "name": "stdout",
     "output_type": "stream",
     "text": [
      "Test passed for sample 0\n",
      "Test passed for sample 1\n",
      "Test passed for sample 2\n",
      "Test passed for sample 0\n",
      "Test passed for sample 1\n",
      "Test passed for sample 2\n"
     ]
    }
   ],
   "source": [
    "# Calculate log likelihood using loglik_f_i__given_Az\n",
    "for i in range(F.shape[0]):\n",
    "\n",
    "    my_loglik = inf.loglik_f_i__given_Az(F[i:i+1,:], A, Z[i:i+1,:]).numpy()[0]\n",
    "\n",
    "    # Compare results with the log likelihood calculated in scipy\n",
    "    mean = (Z[i:i+1]@A).numpy()[0]\n",
    "    cov = np.eye(2)*SIGMA2_N\n",
    "    multivariate_normal.logpdf(A_np, mean=mean, cov=cov)\n",
    "\n",
    "    sp_loglik = multivariate_normal.logpdf(F_np[i,:], mean, cov)\n",
    "\n",
    "    if np.isclose(my_loglik, sp_loglik, atol=1e-6):\n",
    "        print(f\"Test passed for sample {i}\")\n",
    "\n",
    "# Calculate log likelihood using loglik_f_i__given_Az_Knew\n",
    "for i in range(F.shape[0]):\n",
    "\n",
    "    my_loglik = inf.loglik_f_i__given_Az_Knew(F[i:i+1,:], A, Z[i:i+1,:], k_new=0).numpy()[0]\n",
    "\n",
    "    # Compare results with the log likelihood calculated in scipy\n",
    "    mean = (Z[i:i+1]@A).numpy()[0]\n",
    "    cov = np.eye(2)*SIGMA2_N\n",
    "    multivariate_normal.logpdf(A_np, mean=mean, cov=cov)\n",
    "\n",
    "    sp_loglik = multivariate_normal.logpdf(F_np[i,:], mean, cov)\n",
    "\n",
    "    if np.isclose(my_loglik, sp_loglik, atol=1e-6):\n",
    "        print(f\"Test passed for sample {i}\")"
   ]
  },
  {
   "cell_type": "markdown",
   "metadata": {},
   "source": [
    "### PIT test for Gaussian posterior $P(A|F,Z)$\n",
    "Tests the method `resample_A`"
   ]
  },
  {
   "cell_type": "code",
   "execution_count": null,
   "metadata": {},
   "outputs": [
    {
     "data": {
      "image/png": "[encoded data removed]",
      "text/plain": [
       "<Figure size 640x480 with 1 Axes>"
      ]
     },
     "metadata": {},
     "output_type": "display_data"
    },
    {
     "name": "stdout",
     "output_type": "stream",
     "text": [
      "KstestResult(statistic=np.float64(0.0033357054183743573), pvalue=np.float64(0.21530142982209854), statistic_location=np.float64(0.5210842945816256), statistic_sign=np.int8(1))\n"
     ]
    }
   ],
   "source": [
    "SIGMA2_N = 0.2\n",
    "SIGMA2_A = 0.4\n",
    "inf = UncollapsedGibbsIBP(K=3, max_K=6, alpha=0.01, sigma2_a=SIGMA2_A, phi=0.25, sigma2_n=SIGMA2_N, epsilon=0.25, lambd=0.75)\n",
    "\n",
    "res = []\n",
    "for i in range(100000):\n",
    "    # Sample from the prior\n",
    "    A_true = inf.sample_A_prior(K, D)\n",
    "    # Sample from the likelihood\n",
    "    f_means = Z @ A_true\n",
    "    f_cov = SIGMA2_N*np.eye(D)\n",
    "    F_obs = torch.zeros(N,D)\n",
    "    for i in range(N):\n",
    "        F_obs[i] = torch.tensor(multivariate_normal.rvs(mean=f_means[i], cov=f_cov))\n",
    "\n",
    "    # Calculate parameters of the posterior\n",
    "    temp = ((Z.T @ Z) + ((SIGMA2_N/SIGMA2_A)*torch.eye(K))).inverse()\n",
    "    post_mu = temp @ Z.T @ F_obs\n",
    "    post_cov = SIGMA2_N*temp\n",
    "    # Isolate one element\n",
    "    mean = post_mu.numpy()[0,0]\n",
    "    var = post_cov.numpy()[0,0]\n",
    "    \n",
    "    # perform PIT by evaluating the CDF of the posterior at true value of the parameter\n",
    "    res.append(norm.cdf(A_true.numpy()[0,0], mean, np.sqrt(var)))\n",
    "\n",
    "res = np.array(res)\n",
    "plt.hist(res, bins=50)\n",
    "plt.show()\n",
    "print(stats.kstest(res, 'uniform'))"
   ]
  },
  {
   "cell_type": "markdown",
   "metadata": {},
   "source": [
    "### Test of bernoulli likelihood $P(X|Y,Z)$"
   ]
  },
  {
   "cell_type": "code",
   "execution_count": 38,
   "metadata": {},
   "outputs": [
    {
     "name": "stdout",
     "output_type": "stream",
     "text": [
      "Test passed for sample 0\n",
      "Test passed for sample 1\n"
     ]
    }
   ],
   "source": [
    "# Calculate log likelihood using loglik_x__t_given_Zy\n",
    "for k in range(X.shape[1]):\n",
    "\n",
    "    my_loglik = inf.loglik_x__t_given_Zy(X[:,k:k+1], Z, Y[:,k:k+1]).numpy()\n",
    "\n",
    "    # Calculate the probability of observing 1\n",
    "    n_actfeat = torch.matmul(Z, Y[:,k:k+1])\n",
    "    p = 1 - ((((1 - LAMBD)**n_actfeat))*(1 - EPSILON)) # probability of observing 1\n",
    "    \n",
    "    sp_loglik = 0\n",
    "    for i in range(X.shape[0]):\n",
    "        sp_loglik += bernoulli.logpmf(X_np[i,k], p[i,0])\n",
    "\n",
    "    # Compare results with the log likelihood calculated in scipy\n",
    "    if np.isclose(my_loglik, sp_loglik, atol=1e-6):\n",
    "        print(f\"Test passed for sample {k}\")"
   ]
  },
  {
   "cell_type": "markdown",
   "metadata": {},
   "source": [
    "### RPIT Test of bernoulli posterior $P(Y|X,Z)$"
   ]
  },
  {
   "cell_type": "code",
   "execution_count": 375,
   "metadata": {},
   "outputs": [
    {
     "data": {
      "image/png": "[encoded data removed]",
      "text/plain": [
       "<Figure size 640x480 with 1 Axes>"
      ]
     },
     "metadata": {},
     "output_type": "display_data"
    },
    {
     "name": "stdout",
     "output_type": "stream",
     "text": [
      "KstestResult(statistic=np.float64(0.0016246740341187005), pvalue=np.float64(0.9540602511072882), statistic_location=np.float32(0.6411747), statistic_sign=np.int8(-1))\n"
     ]
    }
   ],
   "source": [
    "LAMBD = 0.8\n",
    "EPSILON = 0.2\n",
    "PHI = 0.25\n",
    "inf = UncollapsedGibbsIBP(K=2, max_K=6, alpha=0.01, sigma2_a=SIGMA2_A, phi=PHI, sigma2_n=SIGMA2_N, epsilon=EPSILON, lambd=LAMBD)\n",
    "As, Zs, Ys = inf.gibbs(F, X, 0)\n",
    "\n",
    "res = []\n",
    "for i in range(100000):\n",
    "    # Sample from the prior\n",
    "    Y_true = inf.sample_Y_prior(K, T)\n",
    "    #print(Y_true)\n",
    "    # Sample from the likelihood\n",
    "    X_actfeat = Z @ Y_true # number of active features at the specific pixel within a given observation    \n",
    "    #print(X_actfeat)\n",
    "    X_obs = torch.zeros(N,T)\n",
    "    for i in range(N):\n",
    "        for j in range(T):\n",
    "            p = 1 - (((1 - LAMBD)**X_actfeat[i,j])*(1 - EPSILON))\n",
    "            X_obs[i,j] = torch.tensor(bernoulli.rvs(p))\n",
    "    #print(X_obs)\n",
    "\n",
    "    # Calculate parameters of the posterior\n",
    "    pYkt_1_arr = torch.zeros(K, T)\n",
    "\n",
    "    log_prior_Y_kt_0 = torch.log(1 - torch.tensor(PHI))\n",
    "    log_prior_Y_kt_1 = torch.log(torch.tensor(PHI))\n",
    "    Y_curr = inf.sample_Y_prior(K, T)\n",
    "    \n",
    "    #print(Y_curr)\n",
    "\n",
    "    for r in range(1):\n",
    "        for k in range(K):\n",
    "            for t in range(T):\n",
    "                # Calculate log posterior proportionals for Y_kt = 0 and Y_kt = 1\n",
    "                Y_curr[k, t] = 0\n",
    "                logp_Ykt_0 = log_prior_Y_kt_0 + inf.loglik_x__t_given_Zy(X_obs[:, t:t+1], Z, Y_curr[:, t:t+1])\n",
    "                Y_curr[k, t] = 1\n",
    "                logp_Ykt_1 = log_prior_Y_kt_1 + inf.loglik_x__t_given_Zy(X_obs[:, t:t+1], Z, Y_curr[:, t:t+1])\n",
    "                # Normalise to get the probabilities\n",
    "                pYkt_0, pYkt_1 = normalise_bern_logpostprop(logp_Ykt_0, logp_Ykt_1)\n",
    "                #Y_curr[k, t] = torch.distributions.Bernoulli(probs=pYkt_1).sample()\n",
    "                pYkt_1_arr[k, t] = pYkt_1\n",
    "    \n",
    "    #print(Y_curr)\n",
    "    #print(pYkt_1_arr)\n",
    "\n",
    "    #print(Z@pYkt_1_arr)\n",
    "\n",
    "    # perform !!Randomised!! PIT\n",
    "    u = stats.uniform.rvs()\n",
    "    if Y_true[0,0] == 0:\n",
    "        u = u * (1 - pYkt_1_arr[0,0])\n",
    "    else:\n",
    "        u = (1-pYkt_1_arr[0,0]) + u*pYkt_1_arr[0,0]\n",
    "    res.append(u)\n",
    "\n",
    "res = np.array(res)\n",
    "#print(res)\n",
    "plt.hist(res, bins=50)\n",
    "plt.show()\n",
    "print(stats.kstest(res, 'uniform'))"
   ]
  }
 ],
 "metadata": {
  "kernelspec": {
   "display_name": "base312",
   "language": "python",
   "name": "python3"
  },
  "language_info": {
   "codemirror_mode": {
    "name": "ipython",
    "version": 3
   },
   "file_extension": ".py",
   "mimetype": "text/x-python",
   "name": "python",
   "nbconvert_exporter": "python",
   "pygments_lexer": "ipython3",
   "version": "3.12.8"
  }
 },
 "nbformat": 4,
 "nbformat_minor": 2
}
