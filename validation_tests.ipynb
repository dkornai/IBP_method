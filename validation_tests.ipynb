{
 "cells": [
  {
   "cell_type": "code",
   "execution_count": 1,
   "metadata": {},
   "outputs": [],
   "source": [
    "import torch\n",
    "import numpy as np\n",
    "import scipy.stats as stats\n",
    "from scipy.stats import multivariate_normal, norm, bernoulli\n",
    "import matplotlib.pyplot as plt"
   ]
  },
  {
   "cell_type": "code",
   "execution_count": 2,
   "metadata": {},
   "outputs": [],
   "source": [
    "from gibbsibp import UncollapsedGibbsIBP, normalise_bern_logpostprop"
   ]
  },
  {
   "cell_type": "code",
   "execution_count": 3,
   "metadata": {},
   "outputs": [],
   "source": [
    "F_np = np.array(\n",
    "    [[0.51, -0.01],\n",
    "     [0.49, 0.01],\n",
    "     [0.01, 0.5]]\n",
    "    )\n",
    "X_np = np.array(\n",
    "    [[0.0, 1.0],\n",
    "     [0.0, 1.0],\n",
    "     [1.0, 0.0]]\n",
    "    )\n",
    "\n",
    "A_np = np.array(\n",
    "    [[0.4, 0.1],\n",
    "     [0.1, 0.4]]\n",
    "    )\n",
    "Y_np = np.array(\n",
    "    [[0.0, 1.0],\n",
    "     [1.0, 0.0]]\n",
    "    )\n",
    "Z_np = np.array(\n",
    "    [[1.0, 0.0],\n",
    "     [1.0, 0.0],\n",
    "     [0.0, 1.0]]\n",
    "    )\n",
    "\n",
    "SIGMA2_N = 0.05\n",
    "SIGMA2_A = 1.0\n",
    "LAMBD = 0.75\n",
    "EPSILON = 0.25\n",
    "N=3\n",
    "K=2\n",
    "D=2\n",
    "T=2\n",
    "\n",
    "F = torch.tensor(F_np, dtype=torch.float32)\n",
    "X = torch.tensor(X_np, dtype=torch.float32)\n",
    "A = torch.tensor(A_np, dtype=torch.float32)\n",
    "Y = torch.tensor(Y_np, dtype=torch.float32)\n",
    "Z = torch.tensor(Z_np, dtype=torch.float32)\n",
    "\n",
    "inf = UncollapsedGibbsIBP(K=1, max_K=6, alpha=0.01, sigma2_a=SIGMA2_A, phi=0.25, sigma2_n=SIGMA2_N, epsilon=EPSILON, lambd=LAMBD)\n",
    "\n",
    "As, Zs, Ys = inf.gibbs(F, X, 0)"
   ]
  },
  {
   "cell_type": "markdown",
   "metadata": {},
   "source": [
    "### Test of Gaussian log-likelihood $P(F|A,Z)$\n",
    "Tests the method `loglik_f_i__given_Az`, and also `loglik_f_i__given_Az_Knew` with `k_new=0`"
   ]
  },
  {
   "cell_type": "code",
   "execution_count": 4,
   "metadata": {},
   "outputs": [
    {
     "name": "stdout",
     "output_type": "stream",
     "text": [
      "Test passed for sample 0\n",
      "Test passed for sample 1\n",
      "Test passed for sample 2\n"
     ]
    }
   ],
   "source": [
    "for i in range(F.shape[0]):\n",
    "    # Calculate log likelihood using loglik_f_i__given_Az\n",
    "    my_loglik_1 = inf.loglik_f_i__given_Az(F[i:i+1,:], A, Z[i:i+1,:]).numpy()[0]\n",
    "    # Calculate log likelihood using loglik_f_i__given_Az_Knew\n",
    "    my_loglik_2 = inf.loglik_f_i__given_Az_Knew(F[i:i+1,:], A, Z[i:i+1,:], k_new=0).numpy()[0]\n",
    "\n",
    "    # Compare results with the log likelihood calculated in scipy\n",
    "    mean = (Z[i:i+1]@A).numpy()[0]\n",
    "    cov = np.eye(D)*SIGMA2_N\n",
    "    sp_loglik = multivariate_normal.logpdf(F_np[i,:], mean, cov)\n",
    "\n",
    "    if \\\n",
    "        np.isclose(my_loglik_1, sp_loglik, atol=1e-6) and \\\n",
    "        np.isclose(my_loglik_2, sp_loglik, atol=1e-6) and \\\n",
    "        np.isclose(my_loglik_1, my_loglik_2, atol=1e-6):\n",
    "        print(f\"Test passed for sample {i}\")\n"
   ]
  },
  {
   "cell_type": "markdown",
   "metadata": {},
   "source": [
    "### PIT test for Gaussian posterior $P(A|F,Z)$\n",
    "Tests the method `resample_A`"
   ]
  },
  {
   "cell_type": "code",
   "execution_count": 5,
   "metadata": {},
   "outputs": [
    {
     "data": {
      "image/png": "[encoded data removed]",
      "text/plain": [
       "<Figure size 640x480 with 1 Axes>"
      ]
     },
     "metadata": {},
     "output_type": "display_data"
    },
    {
     "name": "stdout",
     "output_type": "stream",
     "text": [
      "KstestResult(statistic=np.float64(0.00240841526531127), pvalue=np.float64(0.6067822323369965), statistic_location=np.float64(0.26849841526531126), statistic_sign=np.int8(-1))\n"
     ]
    }
   ],
   "source": [
    "SIGMA2_N = 0.2\n",
    "SIGMA2_A = 0.4\n",
    "inf = UncollapsedGibbsIBP(K=K, max_K=6, alpha=0.01, sigma2_a=SIGMA2_A, phi=0.25, sigma2_n=SIGMA2_N, epsilon=0.25, lambd=0.75)\n",
    "\n",
    "res = []\n",
    "for i in range(100000):\n",
    "    # Sample from the prior\n",
    "    A_true = inf.sample_A_prior(K, D)\n",
    "    # Sample from the likelihood\n",
    "    F_obs = inf.F_likelihood_sample(Z, A_true)\n",
    "\n",
    "    # Calculate parameters of the posterior\n",
    "    mu, cov = inf.posterior_param_A(F_obs, Z)\n",
    "\n",
    "    # get a single element\n",
    "    mean = mu[0,0].numpy()\n",
    "    std  = torch.sqrt(cov[0,0]).numpy()\n",
    "    \n",
    "    # perform PIT by evaluating the CDF of the posterior at true value of the parameter\n",
    "    res.append(norm.cdf(A_true.numpy()[0,0], mean, std))\n",
    "\n",
    "res = np.array(res)\n",
    "plt.hist(res, bins=50)\n",
    "plt.show()\n",
    "print(stats.kstest(res, 'uniform'))"
   ]
  },
  {
   "cell_type": "markdown",
   "metadata": {},
   "source": [
    "### Test of bernoulli likelihood $P(X|Y,Z)$\n",
    "Tests the method `loglik_x_i__given_Yz`, and also `loglik_x_i__given_Yz_Knew` with `k_new=0`"
   ]
  },
  {
   "cell_type": "code",
   "execution_count": 6,
   "metadata": {},
   "outputs": [
    {
     "name": "stdout",
     "output_type": "stream",
     "text": [
      "Test passed for sample 0\n",
      "Test passed for sample 1\n",
      "Test passed for sample 2\n"
     ]
    }
   ],
   "source": [
    "\n",
    "for i in range(X.shape[0]):\n",
    "    # Calculate log likelihood using loglik_x_i__given_Yz\n",
    "    my_loglik_1 = inf.loglik_x_i__given_Yz(X[i:i+1,:], Y, Z[i:i+1,:]).numpy()\n",
    "\n",
    "    # Calculate log likelihood using loglik_x_i__given_Yz_Knew\n",
    "    my_loglik_2 = inf.loglik_x_i__given_Yz_Knew(X[i:i+1,:], Y, Z[i:i+1,:], k_new=0).numpy()\n",
    "\n",
    "    # Calculate the log likelihood under the Bernoulli distribution in scipy\n",
    "    n_actfeat = torch.matmul(Z[i:i+1,:], Y)\n",
    "    p = 1 - ((((1 - LAMBD)**n_actfeat))*(1 - EPSILON)) # probability of observing 1\n",
    "    \n",
    "    sp_loglik = 0\n",
    "    for k in range(X.shape[1]):\n",
    "        sp_loglik += bernoulli.logpmf(X_np[i,k], p[0,k])\n",
    "\n",
    "    # Compare results with the log likelihood calculated in scipy\n",
    "    if \\\n",
    "        np.isclose(my_loglik_1, sp_loglik, atol=1e-6) and \\\n",
    "        np.isclose(my_loglik_2, sp_loglik, atol=1e-6) and \\\n",
    "        np.isclose(my_loglik_1, my_loglik_2, atol=1e-6):\n",
    "        print(f\"Test passed for sample {i}\")"
   ]
  },
  {
   "cell_type": "markdown",
   "metadata": {},
   "source": [
    "### RPIT Test of bernoulli posterior $P(Y|X,Z)$"
   ]
  },
  {
   "cell_type": "code",
   "execution_count": 7,
   "metadata": {},
   "outputs": [
    {
     "data": {
      "image/png": "[encoded data removed]",
      "text/plain": [
       "<Figure size 640x480 with 1 Axes>"
      ]
     },
     "metadata": {},
     "output_type": "display_data"
    },
    {
     "name": "stdout",
     "output_type": "stream",
     "text": [
      "KstestResult(statistic=np.float64(0.0034941764068603387), pvalue=np.float64(0.17348028902861645), statistic_location=np.float32(0.5717242), statistic_sign=np.int8(-1))\n"
     ]
    }
   ],
   "source": [
    "LAMBD = 0.8\n",
    "EPSILON = 0.2\n",
    "PHI = 0.25\n",
    "inf = UncollapsedGibbsIBP(K=2, max_K=6, alpha=0.01, sigma2_a=SIGMA2_A, phi=PHI, sigma2_n=SIGMA2_N, epsilon=EPSILON, lambd=LAMBD)\n",
    "As, Zs, Ys = inf.gibbs(F, X, 0)\n",
    "\n",
    "res = []\n",
    "for i in range(100000):\n",
    "    # Sample from the prior\n",
    "    Y_true = inf.sample_Y_prior(K, T)\n",
    "    \n",
    "    # Sample from the likelihood\n",
    "    X_obs = inf.X_likelihood_sample(Z, Y_true)\n",
    "\n",
    "    # Calculate parameters of the posterior\n",
    "    Y_curr = inf.sample_Y_prior(K, T) # Start with a random sample of Y\n",
    "    \n",
    "    pYkt_1_arr = torch.zeros((K, T))\n",
    "    for k in range(K):\n",
    "        for t in range(T):\n",
    "            pYkt_1_arr[k, t] = inf.posterior_param_Y_kt(Z, X_obs, Y_curr, k, t) # Calculate the posterior for each element of Y\n",
    "\n",
    "    # perform !!Randomised!! PIT\n",
    "    u = stats.uniform.rvs()\n",
    "    if Y_true[0,0] == 0:\n",
    "        u = u * (1 - pYkt_1_arr[0,0])\n",
    "    else:\n",
    "        u = (1-pYkt_1_arr[0,0]) + u*pYkt_1_arr[0,0]\n",
    "    res.append(u)\n",
    "\n",
    "res = np.array(res)\n",
    "plt.hist(res, bins=50)\n",
    "plt.show()\n",
    "print(stats.kstest(res, 'uniform'))"
   ]
  },
  {
   "cell_type": "markdown",
   "metadata": {},
   "source": [
    "### TODO: Numerical validation of analytical formulas integrating out $A_{new}$ (Eq.13) and $Y_{new}$ (Eq.12) when sampling $K_{new}$ (Eq. 10)."
   ]
  },
  {
   "cell_type": "markdown",
   "metadata": {},
   "source": [
    "### TODO: "
   ]
  }
 ],
 "metadata": {
  "kernelspec": {
   "display_name": "base312",
   "language": "python",
   "name": "python3"
  },
  "language_info": {
   "codemirror_mode": {
    "name": "ipython",
    "version": 3
   },
   "file_extension": ".py",
   "mimetype": "text/x-python",
   "name": "python",
   "nbconvert_exporter": "python",
   "pygments_lexer": "ipython3",
   "version": "3.12.8"
  }
 },
 "nbformat": 4,
 "nbformat_minor": 2
}
