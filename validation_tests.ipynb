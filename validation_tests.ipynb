{
 "cells": [
  {
   "cell_type": "code",
   "execution_count": 9,
   "metadata": {},
   "outputs": [],
   "source": [
    "import torch\n",
    "import numpy as np\n",
    "import scipy.stats as stats\n",
    "from scipy.stats import multivariate_normal, norm\n",
    "import matplotlib.pyplot as plt"
   ]
  },
  {
   "cell_type": "code",
   "execution_count": 2,
   "metadata": {},
   "outputs": [],
   "source": [
    "from gibbsibp import UncollapsedGibbsIBP"
   ]
  },
  {
   "cell_type": "code",
   "execution_count": 13,
   "metadata": {},
   "outputs": [],
   "source": [
    "F_np = np.array(\n",
    "    [[0.51, -0.01],\n",
    "     [0.49, 0.01],\n",
    "     [0.01, 0.5]]\n",
    "    )\n",
    "X_np = np.array(\n",
    "    [[0.0, 0.0],\n",
    "     [0.0, 0.0],\n",
    "     [0.0, 0.0]]\n",
    "    )\n",
    "\n",
    "A_np = np.array(\n",
    "    [[0.4, 0.1],\n",
    "     [0.1, 0.4]]\n",
    "    )\n",
    "Z_np = np.array(\n",
    "    [[1.0, 0.0],\n",
    "     [1.0, 0.0],\n",
    "     [0.0, 1.0]]\n",
    "    )\n",
    "\n",
    "SIGMA2_N = 0.05\n",
    "SIGMA2_A = 1.0\n",
    "N=3\n",
    "K=2\n",
    "D=2\n",
    "\n",
    "F = torch.tensor(F_np, dtype=torch.float32)\n",
    "X = torch.tensor(X_np, dtype=torch.float32)\n",
    "A = torch.tensor(A_np, dtype=torch.float32)\n",
    "Z = torch.tensor(Z_np, dtype=torch.float32)\n",
    "\n",
    "inf = UncollapsedGibbsIBP(K=1, max_K=6, alpha=0.01, sigma2_a=SIGMA2_A, phi=0.25, sigma2_n=SIGMA2_N, epsilon=0.25, lambd=0.75)\n",
    "\n",
    "As, Zs, Ys = inf.gibbs(F, X, 0)"
   ]
  },
  {
   "cell_type": "markdown",
   "metadata": {},
   "source": [
    "### Test of Gaussian log-likelihood $P(F|A,Z)$\n",
    "Tests the method `loglik_f_i__given_Az`, and also `loglik_f_i__given_Az_Knew` with `k_new=1`"
   ]
  },
  {
   "cell_type": "code",
   "execution_count": null,
   "metadata": {},
   "outputs": [
    {
     "name": "stdout",
     "output_type": "stream",
     "text": [
      "Test passed for sample 0\n",
      "Test passed for sample 1\n",
      "Test passed for sample 2\n",
      "Test passed for sample 0\n",
      "Test passed for sample 1\n",
      "Test passed for sample 2\n"
     ]
    }
   ],
   "source": [
    "# Calculate log likelihood using loglik_f_i__given_Az\n",
    "for i in range(F.shape[0]):\n",
    "\n",
    "    my_loglik = inf.loglik_f_i__given_Az(F[i:i+1,:], A, Z[i:i+1,:]).numpy()[0]\n",
    "\n",
    "    # Compare results with the log likelihood calculated in scipy\n",
    "    mean = (Z[i:i+1]@A).numpy()[0]\n",
    "    cov = np.eye(2)*SIGMA2_N\n",
    "    multivariate_normal.logpdf(A_np, mean=mean, cov=cov)\n",
    "\n",
    "    sp_loglik = multivariate_normal.logpdf(F_np[i,:], mean, cov)\n",
    "\n",
    "    if np.isclose(my_loglik, sp_loglik, atol=1e-6):\n",
    "        print(f\"Test passed for sample {i}\")\n",
    "\n",
    "# Calculate log likelihood using loglik_f_i__given_Az_Knew\n",
    "for i in range(F.shape[0]):\n",
    "\n",
    "    my_loglik = inf.loglik_f_i__given_Az_Knew(F[i:i+1,:], A, Z[i:i+1,:], 0).numpy()[0]\n",
    "\n",
    "    # Compare results with the log likelihood calculated in scipy\n",
    "    mean = (Z[i:i+1]@A).numpy()[0]\n",
    "    cov = np.eye(2)*SIGMA2_N\n",
    "    multivariate_normal.logpdf(A_np, mean=mean, cov=cov)\n",
    "\n",
    "    sp_loglik = multivariate_normal.logpdf(F_np[i,:], mean, cov)\n",
    "\n",
    "    if np.isclose(my_loglik, sp_loglik, atol=1e-6):\n",
    "        print(f\"Test passed for sample {i}\")"
   ]
  },
  {
   "cell_type": "markdown",
   "metadata": {},
   "source": [
    "### PIT test for Gaussian posterior $P(A|F,Z)$\n",
    "Tests the method `resample_A`"
   ]
  },
  {
   "cell_type": "code",
   "execution_count": 11,
   "metadata": {},
   "outputs": [
    {
     "data": {
      "image/png": "[encoded data removed]",
      "text/plain": [
       "<Figure size 640x480 with 1 Axes>"
      ]
     },
     "metadata": {},
     "output_type": "display_data"
    },
    {
     "name": "stdout",
     "output_type": "stream",
     "text": [
      "KstestResult(statistic=np.float64(0.0033357054183743573), pvalue=np.float64(0.21530142982209854), statistic_location=np.float64(0.5210842945816256), statistic_sign=np.int8(1))\n"
     ]
    }
   ],
   "source": [
    "SIGMA2_N = 0.2\n",
    "SIGMA2_A = 0.4\n",
    "inf = UncollapsedGibbsIBP(K=3, max_K=6, alpha=0.01, sigma2_a=SIGMA2_A, phi=0.25, sigma2_n=SIGMA2_N, epsilon=0.25, lambd=0.75)\n",
    "\n",
    "res = []\n",
    "for i in range(100000):\n",
    "    # Sample from the prior\n",
    "    A_true = inf.sample_A_prior(K, D)\n",
    "    # Sample from the likelihood\n",
    "    f_means = Z @ A_true\n",
    "    f_cov = SIGMA2_N*np.eye(D)\n",
    "    F_obs = torch.zeros(N,D)\n",
    "    for i in range(N):\n",
    "        F_obs[i] = torch.tensor(multivariate_normal.rvs(mean=f_means[i], cov=f_cov))\n",
    "\n",
    "    # Calculate parameters of the posterior\n",
    "    temp = ((Z.T @ Z) + ((SIGMA2_N/SIGMA2_A)*torch.eye(K))).inverse()\n",
    "    post_mu = temp @ Z.T @ F_obs\n",
    "    post_cov = SIGMA2_N*temp\n",
    "    # Isolate one element\n",
    "    mean = post_mu.numpy()[0,0]\n",
    "    var = post_cov.numpy()[0,0]\n",
    "    \n",
    "    # perform PIT by evaluating the CDF of the posterior at true value of the parameter\n",
    "    res.append(norm.cdf(A_true.numpy()[0,0], mean, np.sqrt(var)))\n",
    "\n",
    "res = np.array(res)\n",
    "plt.hist(res, bins=50)\n",
    "plt.show()\n",
    "print(stats.kstest(res, 'uniform'))"
   ]
  },
  {
   "cell_type": "markdown",
   "metadata": {},
   "source": [
    "### Test of bernoulli posterior P(Y|X,Z)"
   ]
  },
  {
   "cell_type": "code",
   "execution_count": null,
   "metadata": {},
   "outputs": [],
   "source": []
  }
 ],
 "metadata": {
  "kernelspec": {
   "display_name": "base312",
   "language": "python",
   "name": "python3"
  },
  "language_info": {
   "codemirror_mode": {
    "name": "ipython",
    "version": 3
   },
   "file_extension": ".py",
   "mimetype": "text/x-python",
   "name": "python",
   "nbconvert_exporter": "python",
   "pygments_lexer": "ipython3",
   "version": "3.12.8"
  }
 },
 "nbformat": 4,
 "nbformat_minor": 2
}
